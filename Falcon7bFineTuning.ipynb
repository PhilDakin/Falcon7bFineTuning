{
  "cells": [
    {
      "cell_type": "code",
      "execution_count": null,
      "metadata": {
        "colab": {
          "base_uri": "https://localhost:8080/"
        },
        "id": "mNnkgBq7Q3EU",
        "outputId": "d06d7e8e-f832-4f14-acdd-8ccc91ef40ab"
      },
      "outputs": [],
      "source": [
        "!pip install -q -U git+https://github.com/PhilDakin/trl.git \\\n",
        "                   git+https://github.com/huggingface/transformers.git \\\n",
        "                   git+https://github.com/huggingface/peft.git\n",
        "\n",
        "!pip install -q datasets \\\n",
        "                bitsandbytes \\\n",
        "                einops \\\n",
        "                wandb\n",
        "\n",
        "# https://github.com/huggingface/transformers/issues/23935#issuecomment-1593591082\n",
        "!pip install git+https://github.com/PhilDakin/accelerate.git"
      ]
    },
    {
      "cell_type": "code",
      "execution_count": null,
      "metadata": {
        "colab": {
          "base_uri": "https://localhost:8080/",
          "height": 364
        },
        "id": "y1mg40rSz7Hz",
        "outputId": "f9c90868-882d-403d-cde9-c6daf6cd0f13"
      },
      "outputs": [],
      "source": [
        "# Direct HF cache to Drive location s.t. models persist across instances.\n",
        "from google.colab import drive\n",
        "import os\n",
        "\n",
        "drive.mount('/drive')\n",
        "os.environ[\"HF_HOME\"] = '/drive/MyDrive/HFCache'"
      ]
    },
    {
      "cell_type": "code",
      "execution_count": null,
      "metadata": {
        "id": "0X3kHnskSWU4"
      },
      "outputs": [],
      "source": [
        "from datasets import load_from_disk, Dataset, concatenate_datasets\n",
        "\n",
        "TRAINING_TASKS = [\"extract\", \"rank\", \"rewrite\"]\n",
        "\n",
        "def get_dataset(task):\n",
        "  data = load_from_disk(f'/drive/MyDrive/Colab Datasets/summarization/split_datasets/{task}')\n",
        "  def add_task(r):\n",
        "    r['task'] = task\n",
        "    return r\n",
        "  return data.map(add_task)\n",
        "\n",
        "def add_text_if_required(record):\n",
        "  if record['text'] is None:\n",
        "    record['text'] = record['prompt'] + record['result']\n",
        "  return record\n",
        "\n",
        "dataset = concatenate_datasets([full_dataset['train'] for full_dataset in all_datasets.values()]).map(add_text_if_required)\n",
        "eval_dataset = concatenate_datasets([full_dataset['test'].select(range(100)) for full_dataset in all_datasets.values()]).map(add_text_if_required)"
      ]
    },
    {
      "cell_type": "code",
      "execution_count": null,
      "metadata": {
        "id": "6gcaasPoJc2E"
      },
      "outputs": [],
      "source": [
        "# Hack! Falcon tokenizer will not add EOS token automatically, so add it manually here.\n",
        "def add_eos_token(record):\n",
        "  record[\"text\"] += ' <|endoftext|>'\n",
        "  return record\n",
        "\n",
        "dataset = dataset.map(add_eos_token)\n",
        "eval_dataset = eval_dataset.map(add_eos_token)"
      ]
    },
    {
      "cell_type": "code",
      "execution_count": null,
      "metadata": {
        "colab": {
          "base_uri": "https://localhost:8080/"
        },
        "id": "_EMV60vU8Ywd",
        "outputId": "17d9f96f-efbe-49b2-dfac-7109e0bd0c44"
      },
      "outputs": [],
      "source": [
        "TRAINING_MAX_SEQUENCE_LENGTH = 1800\n",
        "TRAINING_MAX_SEQUENCE_LENGTH_CHARS = int(TRAINING_MAX_SEQUENCE_LENGTH * 3.75) # Get a tight upper bound.\n",
        "\n",
        "# Validate train and test dataset for sequence length constraints.\n",
        "\n",
        "def get_invalid_proportion(dataset: Dataset) -> float:\n",
        "  enriched = dataset.map(add_length)\n",
        "  invalid = enriched.filter(lambda record : record[\"length\"] > TRAINING_MAX_SEQUENCE_LENGTH_CHARS)\n",
        "  return len(invalid) / len(dataset)\n",
        "\n",
        "def add_length(record):\n",
        "  record[\"length\"] = len(record[\"text\"])\n",
        "  return record\n",
        "\n",
        "def filter_to_valid(dataset: Dataset) -> Dataset:\n",
        "  enriched = dataset.map(add_length)\n",
        "  valid = enriched.filter(lambda record : record[\"length\"] < TRAINING_MAX_SEQUENCE_LENGTH_CHARS)\n",
        "  valid = valid.remove_columns(\"length\")\n",
        "  return valid\n",
        "\n",
        "get_invalid_proportion(dataset), get_invalid_proportion(eval_dataset)"
      ]
    },
    {
      "cell_type": "code",
      "execution_count": null,
      "metadata": {
        "colab": {
          "base_uri": "https://localhost:8080/"
        },
        "id": "jj2YVD8i_Y_n",
        "outputId": "e066700d-97ec-4915-e819-16767f5b849c"
      },
      "outputs": [],
      "source": [
        "dataset = filter_to_valid(dataset)\n",
        "eval_dataset = filter_to_valid(eval_dataset)\n",
        "\n",
        "get_invalid_proportion(dataset), get_invalid_proportion(eval_dataset)"
      ]
    },
    {
      "cell_type": "code",
      "execution_count": null,
      "metadata": {
        "colab": {
          "base_uri": "https://localhost:8080/"
        },
        "id": "mSqdoPL0dpww",
        "outputId": "eca7e478-d676-4865-e96a-d21656d8a1d7"
      },
      "outputs": [],
      "source": [
        "import pandas as pd\n",
        "\n",
        "# Reduce training data bias towards rewrite a little bit.\n",
        "dataset = dataset.select(range(4800))\n",
        "pd.Series(dataset['task']).value_counts()"
      ]
    },
    {
      "cell_type": "code",
      "execution_count": null,
      "metadata": {
        "colab": {
          "base_uri": "https://localhost:8080/",
          "height": 590,
          "referenced_widgets": [
            "254b3d130b2e4f2986f73f9ee5d82bbe",
            "4db9e8ed3ee848a7a68a1158f95e64df",
            "c8310a9fe2764c36805365bb92c9500f",
            "50c092f689bf4a3c8e6a83f6681e9aef",
            "34daa8b27634499397f609407460363c",
            "29f681a999af45aab55dbe3e8fd56b4c",
            "20b3e001cfc4471ea170e7d8477588c1",
            "c61cc311984b442480b9eb7336110629",
            "6c1591a8dbc147c7ba2241c0bb1adad4",
            "ca1adabf032846a0bdbfbaabd80eba76",
            "63b15796918f40aabb005748ebf162c4"
          ]
        },
        "id": "ZwXZbQ2dSwzI",
        "outputId": "dddbe27e-82cc-4b7f-9cd8-9c4152c1c9b9"
      },
      "outputs": [],
      "source": [
        "import torch\n",
        "from transformers import AutoModelForCausalLM, AutoTokenizer, BitsAndBytesConfig, AutoTokenizer\n",
        "\n",
        "model_name = \"ybelkada/falcon-7b-sharded-bf16\"\n",
        "\n",
        "bnb_config = BitsAndBytesConfig(\n",
        "    load_in_4bit=True,\n",
        "    bnb_4bit_quant_type=\"nf4\",\n",
        "    bnb_4bit_compute_dtype=torch.float16,\n",
        ")\n",
        "\n",
        "model = AutoModelForCausalLM.from_pretrained(\n",
        "    model_name,\n",
        "    quantization_config=bnb_config,\n",
        "    trust_remote_code=True\n",
        ")\n",
        "model.config.use_cache = False"
      ]
    },
    {
      "cell_type": "code",
      "execution_count": null,
      "metadata": {
        "id": "XDS2yYmlUAD6"
      },
      "outputs": [],
      "source": [
        "tokenizer = AutoTokenizer.from_pretrained(model_name, trust_remote_code=True)\n",
        "\n",
        "# Hack - see https://github.com/huggingface/transformers/issues/22794#issuecomment-1598977285.\n",
        "# Use a model-defined special token that is unlikely to appear in our training data,\n",
        "# in order to force the model to learn the EOS token.\n",
        "tokenizer.pad_token = '>>TITLE<<'"
      ]
    },
    {
      "cell_type": "code",
      "execution_count": null,
      "metadata": {
        "id": "dQdvjTYTT1vQ"
      },
      "outputs": [],
      "source": [
        "from peft import LoraConfig\n",
        "\n",
        "lora_alpha = 16\n",
        "lora_dropout = 0.1\n",
        "lora_r = 64\n",
        "\n",
        "peft_config = LoraConfig(\n",
        "    lora_alpha=lora_alpha,\n",
        "    lora_dropout=lora_dropout,\n",
        "    r=lora_r,\n",
        "    bias=\"none\",\n",
        "    task_type=\"CAUSAL_LM\",\n",
        "    target_modules=[\n",
        "        \"query_key_value\",\n",
        "        \"dense\",\n",
        "        \"dense_h_to_4h\",\n",
        "        \"dense_4h_to_h\",\n",
        "    ]\n",
        ")"
      ]
    },
    {
      "cell_type": "code",
      "execution_count": null,
      "metadata": {
        "id": "OCFTvGW6aspE"
      },
      "outputs": [],
      "source": [
        "from transformers import TrainingArguments\n",
        "\n",
        "output_dir = \"./results\"\n",
        "per_device_train_batch_size = 4\n",
        "gradient_accumulation_steps = 4\n",
        "optim = \"paged_adamw_32bit\"\n",
        "save_steps = 50\n",
        "logging_steps = 10\n",
        "learning_rate = 2e-4\n",
        "max_grad_norm = 0.3\n",
        "\n",
        "max_steps = 1250\n",
        "\n",
        "warmup_ratio = 0.03\n",
        "lr_scheduler_type = \"constant\"\n",
        "\n",
        "training_arguments = TrainingArguments(\n",
        "    output_dir=output_dir,\n",
        "    per_device_train_batch_size=per_device_train_batch_size,\n",
        "    gradient_accumulation_steps=gradient_accumulation_steps,\n",
        "    optim=optim,\n",
        "    save_steps=save_steps,\n",
        "    logging_steps=logging_steps,\n",
        "    learning_rate=learning_rate,\n",
        "    fp16=True,\n",
        "    max_grad_norm=max_grad_norm,\n",
        "    max_steps=max_steps,\n",
        "    warmup_ratio=warmup_ratio,\n",
        "    group_by_length=True,\n",
        "    lr_scheduler_type=lr_scheduler_type,\n",
        ")"
      ]
    },
    {
      "cell_type": "code",
      "execution_count": null,
      "metadata": {
        "colab": {
          "base_uri": "https://localhost:8080/"
        },
        "id": "TNeOBgZeTl2H",
        "outputId": "f039b558-de1f-4d73-d274-a709a8b9228d"
      },
      "outputs": [],
      "source": [
        "from trl import SFTTrainer\n",
        "\n",
        "max_seq_length = TRAINING_MAX_SEQUENCE_LENGTH\n",
        "\n",
        "trainer = SFTTrainer(\n",
        "    model=model,\n",
        "    train_dataset=dataset,\n",
        "    eval_dataset=eval_dataset,\n",
        "    peft_config=peft_config,\n",
        "    dataset_text_field=\"text\",\n",
        "    max_seq_length=max_seq_length,\n",
        "    tokenizer=tokenizer,\n",
        "    args=training_arguments,\n",
        ")"
      ]
    },
    {
      "cell_type": "code",
      "execution_count": null,
      "metadata": {
        "colab": {
          "base_uri": "https://localhost:8080/"
        },
        "id": "tDsPsv2C17A_",
        "outputId": "cedb1345-dafd-4b41-d199-71908ff39c35"
      },
      "outputs": [],
      "source": [
        "trainer.eval_dataset"
      ]
    },
    {
      "cell_type": "code",
      "execution_count": null,
      "metadata": {
        "colab": {
          "base_uri": "https://localhost:8080/"
        },
        "id": "xiaK6-n5rm--",
        "outputId": "3f678d9d-c083-4677-d41b-b2d17b46115d"
      },
      "outputs": [],
      "source": [
        "trainer.train_dataset"
      ]
    },
    {
      "cell_type": "code",
      "execution_count": null,
      "metadata": {
        "id": "7OyIvEx7b1GT"
      },
      "outputs": [],
      "source": [
        "for name, module in trainer.model.named_modules():\n",
        "    if \"norm\" in name:\n",
        "        module = module.to(torch.float32)"
      ]
    },
    {
      "cell_type": "code",
      "execution_count": null,
      "metadata": {
        "colab": {
          "base_uri": "https://localhost:8080/",
          "height": 196
        },
        "id": "0BxBiYsDUOhJ",
        "outputId": "9b8399c8-b217-402d-b951-4528b988bd09"
      },
      "outputs": [],
      "source": [
        "pre_training_evaluation = trainer.evaluate()"
      ]
    },
    {
      "cell_type": "code",
      "execution_count": null,
      "metadata": {
        "colab": {
          "base_uri": "https://localhost:8080/",
          "height": 1000
        },
        "id": "_kbS7nRxcMt7",
        "outputId": "af9c36c7-4cc6-4a46-ea63-ab570c733b2d"
      },
      "outputs": [],
      "source": [
        "trainer.train()"
      ]
    },
    {
      "cell_type": "code",
      "execution_count": null,
      "metadata": {
        "colab": {
          "base_uri": "https://localhost:8080/",
          "height": 37
        },
        "id": "f710bcHxUQ81",
        "outputId": "e5744c8c-c161-44ac-98b1-0b5c2d4fdaa6"
      },
      "outputs": [],
      "source": [
        "post_training_evaluation = trainer.evaluate()"
      ]
    },
    {
      "cell_type": "code",
      "execution_count": null,
      "metadata": {
        "id": "7yopSOhp4WJn"
      },
      "outputs": [],
      "source": [
        "# Save model.\n",
        "\n",
        "import time\n",
        "trainer.save_model(f'/drive/MyDrive/Colab Datasets/{int(time.time())}_falcon_fine_tuned')"
      ]
    },
    {
      "cell_type": "code",
      "execution_count": null,
      "metadata": {
        "colab": {
          "base_uri": "https://localhost:8080/"
        },
        "id": "49qYhithUptP",
        "outputId": "0a278484-6bc3-4262-f7e6-5512c796be7b"
      },
      "outputs": [],
      "source": [
        "pre_training_evaluation"
      ]
    },
    {
      "cell_type": "code",
      "execution_count": null,
      "metadata": {
        "colab": {
          "base_uri": "https://localhost:8080/"
        },
        "id": "Tdg8PMcfUrSj",
        "outputId": "f9c87957-8acb-4e79-fdc7-9ee9f6c156aa"
      },
      "outputs": [],
      "source": [
        "post_training_evaluation"
      ]
    }
  ],
  "metadata": {
    "accelerator": "GPU",
    "colab": {
      "gpuType": "T4",
      "machine_shape": "hm",
      "provenance": []
    },
    "kernelspec": {
      "display_name": "Python 3",
      "name": "python3"
    },
    "language_info": {
      "name": "python"
    },
    "widgets": {
      "application/vnd.jupyter.widget-state+json": {
        "20b3e001cfc4471ea170e7d8477588c1": {
          "model_module": "@jupyter-widgets/controls",
          "model_module_version": "1.5.0",
          "model_name": "DescriptionStyleModel",
          "state": {
            "_model_module": "@jupyter-widgets/controls",
            "_model_module_version": "1.5.0",
            "_model_name": "DescriptionStyleModel",
            "_view_count": null,
            "_view_module": "@jupyter-widgets/base",
            "_view_module_version": "1.2.0",
            "_view_name": "StyleView",
            "description_width": ""
          }
        },
        "254b3d130b2e4f2986f73f9ee5d82bbe": {
          "model_module": "@jupyter-widgets/controls",
          "model_module_version": "1.5.0",
          "model_name": "HBoxModel",
          "state": {
            "_dom_classes": [],
            "_model_module": "@jupyter-widgets/controls",
            "_model_module_version": "1.5.0",
            "_model_name": "HBoxModel",
            "_view_count": null,
            "_view_module": "@jupyter-widgets/controls",
            "_view_module_version": "1.5.0",
            "_view_name": "HBoxView",
            "box_style": "",
            "children": [
              "IPY_MODEL_4db9e8ed3ee848a7a68a1158f95e64df",
              "IPY_MODEL_c8310a9fe2764c36805365bb92c9500f",
              "IPY_MODEL_50c092f689bf4a3c8e6a83f6681e9aef"
            ],
            "layout": "IPY_MODEL_34daa8b27634499397f609407460363c"
          }
        },
        "29f681a999af45aab55dbe3e8fd56b4c": {
          "model_module": "@jupyter-widgets/base",
          "model_module_version": "1.2.0",
          "model_name": "LayoutModel",
          "state": {
            "_model_module": "@jupyter-widgets/base",
            "_model_module_version": "1.2.0",
            "_model_name": "LayoutModel",
            "_view_count": null,
            "_view_module": "@jupyter-widgets/base",
            "_view_module_version": "1.2.0",
            "_view_name": "LayoutView",
            "align_content": null,
            "align_items": null,
            "align_self": null,
            "border": null,
            "bottom": null,
            "display": null,
            "flex": null,
            "flex_flow": null,
            "grid_area": null,
            "grid_auto_columns": null,
            "grid_auto_flow": null,
            "grid_auto_rows": null,
            "grid_column": null,
            "grid_gap": null,
            "grid_row": null,
            "grid_template_areas": null,
            "grid_template_columns": null,
            "grid_template_rows": null,
            "height": null,
            "justify_content": null,
            "justify_items": null,
            "left": null,
            "margin": null,
            "max_height": null,
            "max_width": null,
            "min_height": null,
            "min_width": null,
            "object_fit": null,
            "object_position": null,
            "order": null,
            "overflow": null,
            "overflow_x": null,
            "overflow_y": null,
            "padding": null,
            "right": null,
            "top": null,
            "visibility": null,
            "width": null
          }
        },
        "34daa8b27634499397f609407460363c": {
          "model_module": "@jupyter-widgets/base",
          "model_module_version": "1.2.0",
          "model_name": "LayoutModel",
          "state": {
            "_model_module": "@jupyter-widgets/base",
            "_model_module_version": "1.2.0",
            "_model_name": "LayoutModel",
            "_view_count": null,
            "_view_module": "@jupyter-widgets/base",
            "_view_module_version": "1.2.0",
            "_view_name": "LayoutView",
            "align_content": null,
            "align_items": null,
            "align_self": null,
            "border": null,
            "bottom": null,
            "display": null,
            "flex": null,
            "flex_flow": null,
            "grid_area": null,
            "grid_auto_columns": null,
            "grid_auto_flow": null,
            "grid_auto_rows": null,
            "grid_column": null,
            "grid_gap": null,
            "grid_row": null,
            "grid_template_areas": null,
            "grid_template_columns": null,
            "grid_template_rows": null,
            "height": null,
            "justify_content": null,
            "justify_items": null,
            "left": null,
            "margin": null,
            "max_height": null,
            "max_width": null,
            "min_height": null,
            "min_width": null,
            "object_fit": null,
            "object_position": null,
            "order": null,
            "overflow": null,
            "overflow_x": null,
            "overflow_y": null,
            "padding": null,
            "right": null,
            "top": null,
            "visibility": null,
            "width": null
          }
        },
        "4db9e8ed3ee848a7a68a1158f95e64df": {
          "model_module": "@jupyter-widgets/controls",
          "model_module_version": "1.5.0",
          "model_name": "HTMLModel",
          "state": {
            "_dom_classes": [],
            "_model_module": "@jupyter-widgets/controls",
            "_model_module_version": "1.5.0",
            "_model_name": "HTMLModel",
            "_view_count": null,
            "_view_module": "@jupyter-widgets/controls",
            "_view_module_version": "1.5.0",
            "_view_name": "HTMLView",
            "description": "",
            "description_tooltip": null,
            "layout": "IPY_MODEL_29f681a999af45aab55dbe3e8fd56b4c",
            "placeholder": "​",
            "style": "IPY_MODEL_20b3e001cfc4471ea170e7d8477588c1",
            "value": "Loading checkpoint shards: 100%"
          }
        },
        "50c092f689bf4a3c8e6a83f6681e9aef": {
          "model_module": "@jupyter-widgets/controls",
          "model_module_version": "1.5.0",
          "model_name": "HTMLModel",
          "state": {
            "_dom_classes": [],
            "_model_module": "@jupyter-widgets/controls",
            "_model_module_version": "1.5.0",
            "_model_name": "HTMLModel",
            "_view_count": null,
            "_view_module": "@jupyter-widgets/controls",
            "_view_module_version": "1.5.0",
            "_view_name": "HTMLView",
            "description": "",
            "description_tooltip": null,
            "layout": "IPY_MODEL_ca1adabf032846a0bdbfbaabd80eba76",
            "placeholder": "​",
            "style": "IPY_MODEL_63b15796918f40aabb005748ebf162c4",
            "value": " 8/8 [00:24&lt;00:00,  2.56s/it]"
          }
        },
        "63b15796918f40aabb005748ebf162c4": {
          "model_module": "@jupyter-widgets/controls",
          "model_module_version": "1.5.0",
          "model_name": "DescriptionStyleModel",
          "state": {
            "_model_module": "@jupyter-widgets/controls",
            "_model_module_version": "1.5.0",
            "_model_name": "DescriptionStyleModel",
            "_view_count": null,
            "_view_module": "@jupyter-widgets/base",
            "_view_module_version": "1.2.0",
            "_view_name": "StyleView",
            "description_width": ""
          }
        },
        "6c1591a8dbc147c7ba2241c0bb1adad4": {
          "model_module": "@jupyter-widgets/controls",
          "model_module_version": "1.5.0",
          "model_name": "ProgressStyleModel",
          "state": {
            "_model_module": "@jupyter-widgets/controls",
            "_model_module_version": "1.5.0",
            "_model_name": "ProgressStyleModel",
            "_view_count": null,
            "_view_module": "@jupyter-widgets/base",
            "_view_module_version": "1.2.0",
            "_view_name": "StyleView",
            "bar_color": null,
            "description_width": ""
          }
        },
        "c61cc311984b442480b9eb7336110629": {
          "model_module": "@jupyter-widgets/base",
          "model_module_version": "1.2.0",
          "model_name": "LayoutModel",
          "state": {
            "_model_module": "@jupyter-widgets/base",
            "_model_module_version": "1.2.0",
            "_model_name": "LayoutModel",
            "_view_count": null,
            "_view_module": "@jupyter-widgets/base",
            "_view_module_version": "1.2.0",
            "_view_name": "LayoutView",
            "align_content": null,
            "align_items": null,
            "align_self": null,
            "border": null,
            "bottom": null,
            "display": null,
            "flex": null,
            "flex_flow": null,
            "grid_area": null,
            "grid_auto_columns": null,
            "grid_auto_flow": null,
            "grid_auto_rows": null,
            "grid_column": null,
            "grid_gap": null,
            "grid_row": null,
            "grid_template_areas": null,
            "grid_template_columns": null,
            "grid_template_rows": null,
            "height": null,
            "justify_content": null,
            "justify_items": null,
            "left": null,
            "margin": null,
            "max_height": null,
            "max_width": null,
            "min_height": null,
            "min_width": null,
            "object_fit": null,
            "object_position": null,
            "order": null,
            "overflow": null,
            "overflow_x": null,
            "overflow_y": null,
            "padding": null,
            "right": null,
            "top": null,
            "visibility": null,
            "width": null
          }
        },
        "c8310a9fe2764c36805365bb92c9500f": {
          "model_module": "@jupyter-widgets/controls",
          "model_module_version": "1.5.0",
          "model_name": "FloatProgressModel",
          "state": {
            "_dom_classes": [],
            "_model_module": "@jupyter-widgets/controls",
            "_model_module_version": "1.5.0",
            "_model_name": "FloatProgressModel",
            "_view_count": null,
            "_view_module": "@jupyter-widgets/controls",
            "_view_module_version": "1.5.0",
            "_view_name": "ProgressView",
            "bar_style": "success",
            "description": "",
            "description_tooltip": null,
            "layout": "IPY_MODEL_c61cc311984b442480b9eb7336110629",
            "max": 8,
            "min": 0,
            "orientation": "horizontal",
            "style": "IPY_MODEL_6c1591a8dbc147c7ba2241c0bb1adad4",
            "value": 8
          }
        },
        "ca1adabf032846a0bdbfbaabd80eba76": {
          "model_module": "@jupyter-widgets/base",
          "model_module_version": "1.2.0",
          "model_name": "LayoutModel",
          "state": {
            "_model_module": "@jupyter-widgets/base",
            "_model_module_version": "1.2.0",
            "_model_name": "LayoutModel",
            "_view_count": null,
            "_view_module": "@jupyter-widgets/base",
            "_view_module_version": "1.2.0",
            "_view_name": "LayoutView",
            "align_content": null,
            "align_items": null,
            "align_self": null,
            "border": null,
            "bottom": null,
            "display": null,
            "flex": null,
            "flex_flow": null,
            "grid_area": null,
            "grid_auto_columns": null,
            "grid_auto_flow": null,
            "grid_auto_rows": null,
            "grid_column": null,
            "grid_gap": null,
            "grid_row": null,
            "grid_template_areas": null,
            "grid_template_columns": null,
            "grid_template_rows": null,
            "height": null,
            "justify_content": null,
            "justify_items": null,
            "left": null,
            "margin": null,
            "max_height": null,
            "max_width": null,
            "min_height": null,
            "min_width": null,
            "object_fit": null,
            "object_position": null,
            "order": null,
            "overflow": null,
            "overflow_x": null,
            "overflow_y": null,
            "padding": null,
            "right": null,
            "top": null,
            "visibility": null,
            "width": null
          }
        }
      }
    }
  },
  "nbformat": 4,
  "nbformat_minor": 0
}
